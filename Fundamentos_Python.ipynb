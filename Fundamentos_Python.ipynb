{
 "cells": [
  {
   "cell_type": "markdown",
   "id": "c38b8f70",
   "metadata": {},
   "source": [
    "# Data Science Academy - Fundamentos Python"
   ]
  },
  {
   "cell_type": "markdown",
   "id": "2f0e621c",
   "metadata": {},
   "source": [
    "## Números e operações Matemáticas \n",
    "### Obs: Para executar pressionar Shift+Enter ou o botão Run no menu sperior"
   ]
  },
  {
   "cell_type": "markdown",
   "id": "f7dfbd33",
   "metadata": {},
   "source": [
    "#### Operações"
   ]
  },
  {
   "cell_type": "code",
   "execution_count": null,
   "id": "9454e21a",
   "metadata": {},
   "outputs": [],
   "source": [
    "# Soma\n",
    "4 + 4"
   ]
  },
  {
   "cell_type": "code",
   "execution_count": null,
   "id": "bd4353b2",
   "metadata": {},
   "outputs": [],
   "source": [
    "# Subtração\n",
    "4 - 4"
   ]
  },
  {
   "cell_type": "code",
   "execution_count": null,
   "id": "ce69cf38",
   "metadata": {},
   "outputs": [],
   "source": [
    "# Multiplicação\n",
    "4 * 4"
   ]
  },
  {
   "cell_type": "code",
   "execution_count": null,
   "id": "276aab4c",
   "metadata": {},
   "outputs": [],
   "source": [
    "# Divisão\n",
    "4 / 3"
   ]
  },
  {
   "cell_type": "code",
   "execution_count": null,
   "id": "4dd50bca",
   "metadata": {},
   "outputs": [],
   "source": [
    "# Potência\n",
    "4 ** 2"
   ]
  },
  {
   "cell_type": "code",
   "execution_count": null,
   "id": "c76dc404",
   "metadata": {},
   "outputs": [],
   "source": [
    "# Modulo ou Resto de divisão\n",
    "\n",
    "10 % 3"
   ]
  },
  {
   "cell_type": "markdown",
   "id": "8856158d",
   "metadata": {},
   "source": [
    "#### Função Type"
   ]
  },
  {
   "cell_type": "code",
   "execution_count": null,
   "id": "09680934",
   "metadata": {},
   "outputs": [],
   "source": [
    "type(5)"
   ]
  },
  {
   "cell_type": "code",
   "execution_count": null,
   "id": "ab7ffa1d",
   "metadata": {},
   "outputs": [],
   "source": [
    "type(5.0)"
   ]
  },
  {
   "cell_type": "code",
   "execution_count": null,
   "id": "1e7983b5",
   "metadata": {},
   "outputs": [],
   "source": [
    "# String = str / variavel = a  // valor da varuavel = 'o que vc quer escrever, entre aspas simples ou dupla' // type(variavél) \n",
    "a = 'Meu nome é Danyelle'\n",
    "type(a)"
   ]
  },
  {
   "cell_type": "markdown",
   "id": "6b491535",
   "metadata": {},
   "source": [
    "#### Operações com numeros float"
   ]
  },
  {
   "cell_type": "markdown",
   "id": "adca44d6",
   "metadata": {},
   "source": [
    "--> Sempre usar ponto e não virgulas"
   ]
  },
  {
   "cell_type": "code",
   "execution_count": null,
   "id": "2dc13950",
   "metadata": {},
   "outputs": [],
   "source": [
    "3.1 + 4.5"
   ]
  },
  {
   "cell_type": "code",
   "execution_count": null,
   "id": "b1e85a73",
   "metadata": {},
   "outputs": [],
   "source": [
    "4 + 4.6"
   ]
  },
  {
   "cell_type": "markdown",
   "id": "eb49a5b3",
   "metadata": {},
   "source": [
    "#### O uso de duas barras retorna um número inteiro"
   ]
  },
  {
   "cell_type": "code",
   "execution_count": null,
   "id": "cdf2b055",
   "metadata": {},
   "outputs": [],
   "source": [
    "4 // 3"
   ]
  },
  {
   "cell_type": "code",
   "execution_count": null,
   "id": "a5813c63",
   "metadata": {},
   "outputs": [],
   "source": [
    "4 // 3.6"
   ]
  },
  {
   "cell_type": "code",
   "execution_count": null,
   "id": "4962544c",
   "metadata": {},
   "outputs": [],
   "source": [
    "5 / 4"
   ]
  },
  {
   "cell_type": "markdown",
   "id": "f0f82428",
   "metadata": {},
   "source": [
    "#### Conversão / não é arredondamento, é coleta do primeiro numero"
   ]
  },
  {
   "cell_type": "code",
   "execution_count": null,
   "id": "f67a40c8",
   "metadata": {},
   "outputs": [],
   "source": [
    "float(9)"
   ]
  },
  {
   "cell_type": "code",
   "execution_count": null,
   "id": "a2fbcbc6",
   "metadata": {},
   "outputs": [],
   "source": [
    "int(9.8)"
   ]
  },
  {
   "cell_type": "code",
   "execution_count": null,
   "id": "c9fc31c9",
   "metadata": {},
   "outputs": [],
   "source": [
    "int(9.0)"
   ]
  },
  {
   "cell_type": "markdown",
   "id": "70336535",
   "metadata": {},
   "source": [
    "#### Hexadecimal e Binário"
   ]
  },
  {
   "cell_type": "code",
   "execution_count": null,
   "id": "a21e1690",
   "metadata": {},
   "outputs": [],
   "source": [
    "hex(394)"
   ]
  },
  {
   "cell_type": "code",
   "execution_count": null,
   "id": "5767245e",
   "metadata": {},
   "outputs": [],
   "source": [
    "hex(217)"
   ]
  },
  {
   "cell_type": "code",
   "execution_count": null,
   "id": "1f0c2546",
   "metadata": {},
   "outputs": [],
   "source": [
    "bin(325)"
   ]
  },
  {
   "cell_type": "code",
   "execution_count": null,
   "id": "cf7cab39",
   "metadata": {},
   "outputs": [],
   "source": [
    "bin(97909873)"
   ]
  },
  {
   "cell_type": "markdown",
   "id": "111ccb2e",
   "metadata": {},
   "source": [
    "#### Funções abs, round e pow"
   ]
  },
  {
   "cell_type": "code",
   "execution_count": null,
   "id": "4ac28321",
   "metadata": {},
   "outputs": [],
   "source": [
    "# Retornar o valor absoluto\n",
    "abs(-8)"
   ]
  },
  {
   "cell_type": "code",
   "execution_count": null,
   "id": "37133acf",
   "metadata": {},
   "outputs": [],
   "source": [
    "# Retornar o valor absoluto\n",
    "abs(8)"
   ]
  },
  {
   "cell_type": "code",
   "execution_count": null,
   "id": "59a5f42f",
   "metadata": {},
   "outputs": [],
   "source": [
    "# Retornar o valor com ARREDONDAMENTO -> após a virgula são a quantidade de casas decimais\n",
    "round(3.15253,3)"
   ]
  },
  {
   "cell_type": "code",
   "execution_count": null,
   "id": "ea630845",
   "metadata": {},
   "outputs": [],
   "source": [
    "# Potência usando pow() -> primeiro numero, virgula, segundo numero\n",
    "pow(4,2)"
   ]
  },
  {
   "cell_type": "code",
   "execution_count": null,
   "id": "ccd24415",
   "metadata": {},
   "outputs": [],
   "source": [
    "pow(16,5)"
   ]
  },
  {
   "cell_type": "markdown",
   "id": "73346146",
   "metadata": {},
   "source": [
    "## Variaveis e Operadores"
   ]
  },
  {
   "cell_type": "markdown",
   "id": "280d12b7",
   "metadata": {},
   "source": [
    "O que é uma variável? Um espaço na memoria do computador de qualquer denominação onde será armazenado um valor, seja numerico ou palavras. "
   ]
  },
  {
   "cell_type": "code",
   "execution_count": null,
   "id": "6b985412",
   "metadata": {},
   "outputs": [],
   "source": [
    "# Armazenar um valor numérico a uma váriável\n",
    "var_teste = 1"
   ]
  },
  {
   "cell_type": "code",
   "execution_count": null,
   "id": "1fab8f0d",
   "metadata": {},
   "outputs": [],
   "source": [
    "# Imprimir o valor que está dentro(armazenado) na variável\n",
    "# apenas listar o nome na variável\n",
    "var_teste\n"
   ]
  },
  {
   "cell_type": "code",
   "execution_count": null,
   "id": "f36b4c6f",
   "metadata": {},
   "outputs": [],
   "source": [
    "# ou utilizando o print(variavel)\n",
    "print(var_teste)"
   ]
  },
  {
   "cell_type": "code",
   "execution_count": null,
   "id": "c0fa1e3d",
   "metadata": {},
   "outputs": [],
   "source": [
    "# Só podemos utilizar uma variavel se tiver um valor para armazenar\n",
    "\n",
    "var_teste"
   ]
  },
  {
   "cell_type": "code",
   "execution_count": null,
   "id": "bc84f0ea",
   "metadata": {},
   "outputs": [],
   "source": [
    "# utilizando o type para saber o tipo da variável\n",
    "var_teste = 2\n",
    "print(var_teste)\n",
    "type(var_teste)"
   ]
  },
  {
   "cell_type": "code",
   "execution_count": null,
   "id": "7e8120ac",
   "metadata": {},
   "outputs": [],
   "source": [
    "# podemos também, usar apenas um caracter como variavel\n",
    "\n",
    "x = 3"
   ]
  },
  {
   "cell_type": "code",
   "execution_count": null,
   "id": "32e98dd6",
   "metadata": {},
   "outputs": [],
   "source": [
    "x"
   ]
  },
  {
   "cell_type": "markdown",
   "id": "34f22cc0",
   "metadata": {},
   "source": [
    "#### Declarações multiplas "
   ]
  },
  {
   "cell_type": "markdown",
   "id": "27f336af",
   "metadata": {},
   "source": [
    "usando variaveis com valores diferentes"
   ]
  },
  {
   "cell_type": "code",
   "execution_count": null,
   "id": "dda3f17f",
   "metadata": {},
   "outputs": [],
   "source": [
    "x1, x2, x3 = 'maria', '526', '25.6'"
   ]
  },
  {
   "cell_type": "code",
   "execution_count": null,
   "id": "961786b1",
   "metadata": {},
   "outputs": [],
   "source": [
    "x1"
   ]
  },
  {
   "cell_type": "code",
   "execution_count": null,
   "id": "1a80c741",
   "metadata": {},
   "outputs": [],
   "source": [
    "x2"
   ]
  },
  {
   "cell_type": "code",
   "execution_count": null,
   "id": "01921a8c",
   "metadata": {},
   "outputs": [],
   "source": [
    "x3"
   ]
  },
  {
   "cell_type": "code",
   "execution_count": null,
   "id": "80766271",
   "metadata": {},
   "outputs": [],
   "source": [
    "print(x1,x2,x3)"
   ]
  },
  {
   "cell_type": "markdown",
   "id": "7555366e",
   "metadata": {},
   "source": [
    "usando sinais de atribuições para um mesmo valor,\n",
    "ou seja, um mesmo valor atribuido para mais de uma variavel ao mesmo tempo"
   ]
  },
  {
   "cell_type": "code",
   "execution_count": null,
   "id": "bcf9e1d9",
   "metadata": {},
   "outputs": [],
   "source": [
    "fruta1 = fruta2 = fruta3 = \"Uva\""
   ]
  },
  {
   "cell_type": "code",
   "execution_count": null,
   "id": "050d0068",
   "metadata": {},
   "outputs": [],
   "source": [
    "fruta1"
   ]
  },
  {
   "cell_type": "code",
   "execution_count": null,
   "id": "9ca3f9c8",
   "metadata": {},
   "outputs": [],
   "source": [
    "fruta2"
   ]
  },
  {
   "cell_type": "code",
   "execution_count": null,
   "id": "a799b253",
   "metadata": {},
   "outputs": [],
   "source": [
    "fruta3"
   ]
  },
  {
   "cell_type": "markdown",
   "id": "bbd15f98",
   "metadata": {},
   "source": [
    "#### podemos usar letras, numeros e underline(mas nunca comecar uma variavel com um numeral)"
   ]
  },
  {
   "cell_type": "code",
   "execution_count": null,
   "id": "89e73e13",
   "metadata": {},
   "outputs": [],
   "source": [
    "x1 = 50"
   ]
  },
  {
   "cell_type": "code",
   "execution_count": null,
   "id": "79940337",
   "metadata": {},
   "outputs": [],
   "source": [
    "# vai dar erro\n",
    "5x = 'Maria'"
   ]
  },
  {
   "cell_type": "markdown",
   "id": "37400cad",
   "metadata": {},
   "source": [
    "#### variaveis atribuidas a outras variaveis e ordem dos operadores"
   ]
  },
  {
   "cell_type": "code",
   "execution_count": null,
   "id": "fe6fd874",
   "metadata": {},
   "outputs": [],
   "source": [
    "altura = 2"
   ]
  },
  {
   "cell_type": "code",
   "execution_count": null,
   "id": "51c3e46f",
   "metadata": {},
   "outputs": [],
   "source": [
    "largura = 4"
   ]
  },
  {
   "cell_type": "code",
   "execution_count": null,
   "id": "f57a290e",
   "metadata": {},
   "outputs": [],
   "source": [
    "area = altura * largura"
   ]
  },
  {
   "cell_type": "code",
   "execution_count": null,
   "id": "70a3fe66",
   "metadata": {},
   "outputs": [],
   "source": [
    "area"
   ]
  },
  {
   "cell_type": "code",
   "execution_count": null,
   "id": "47f07645",
   "metadata": {},
   "outputs": [],
   "source": [
    "print(area)"
   ]
  },
  {
   "cell_type": "markdown",
   "id": "6e454239",
   "metadata": {},
   "source": [
    "ordem dos operadores matemáticos"
   ]
  },
  {
   "cell_type": "code",
   "execution_count": null,
   "id": "47e5463c",
   "metadata": {},
   "outputs": [],
   "source": [
    "perimetro = 2 * largura + 2 * altura"
   ]
  },
  {
   "cell_type": "code",
   "execution_count": null,
   "id": "5e4c79c8",
   "metadata": {},
   "outputs": [],
   "source": [
    "perimetro"
   ]
  },
  {
   "cell_type": "code",
   "execution_count": null,
   "id": "cdcceb59",
   "metadata": {},
   "outputs": [],
   "source": [
    "perimetro = 2 * (largura + 2) * altura"
   ]
  },
  {
   "cell_type": "code",
   "execution_count": null,
   "id": "8ed68db0",
   "metadata": {},
   "outputs": [],
   "source": [
    "perimetro"
   ]
  },
  {
   "cell_type": "markdown",
   "id": "e16efa2f",
   "metadata": {},
   "source": [
    "#### Operações com variaveis"
   ]
  },
  {
   "cell_type": "code",
   "execution_count": null,
   "id": "6bb8624f",
   "metadata": {},
   "outputs": [],
   "source": [
    "idade1 = 18"
   ]
  },
  {
   "cell_type": "code",
   "execution_count": null,
   "id": "b8d276f1",
   "metadata": {},
   "outputs": [],
   "source": [
    "idade2 = 20"
   ]
  },
  {
   "cell_type": "code",
   "execution_count": null,
   "id": "cd4b4190",
   "metadata": {},
   "outputs": [],
   "source": [
    "idade1 + idade2"
   ]
  },
  {
   "cell_type": "code",
   "execution_count": null,
   "id": "e0824d02",
   "metadata": {},
   "outputs": [],
   "source": [
    "idade1 - idade2"
   ]
  },
  {
   "cell_type": "code",
   "execution_count": null,
   "id": "91d4350f",
   "metadata": {},
   "outputs": [],
   "source": [
    "idade1 * idade2"
   ]
  },
  {
   "cell_type": "code",
   "execution_count": null,
   "id": "0b81203f",
   "metadata": {},
   "outputs": [],
   "source": [
    "idade1 / idade2"
   ]
  },
  {
   "cell_type": "markdown",
   "id": "45754711",
   "metadata": {},
   "source": [
    "#### Concatenação de variavéis\n",
    "Oque é a concatenação? é simplesmente a junção de variaveis"
   ]
  },
  {
   "cell_type": "code",
   "execution_count": null,
   "id": "1e862243",
   "metadata": {},
   "outputs": [],
   "source": [
    "nome = 'Danyelle'"
   ]
  },
  {
   "cell_type": "code",
   "execution_count": null,
   "id": "cd9e17de",
   "metadata": {},
   "outputs": [],
   "source": [
    "sobrenome = 'Melo'"
   ]
  },
  {
   "cell_type": "code",
   "execution_count": null,
   "id": "f951b0ac",
   "metadata": {},
   "outputs": [],
   "source": [
    "# neste caso o sinal de +(mais) não representará uma soma\n",
    "nomecompleto = nome + \" \" + sobrenome"
   ]
  },
  {
   "cell_type": "code",
   "execution_count": null,
   "id": "5172b440",
   "metadata": {},
   "outputs": [],
   "source": [
    "nomecompleto"
   ]
  },
  {
   "cell_type": "code",
   "execution_count": null,
   "id": "95fe7281",
   "metadata": {},
   "outputs": [],
   "source": [
    "print(nomecompleto)"
   ]
  },
  {
   "cell_type": "markdown",
   "id": "2489ff82",
   "metadata": {},
   "source": [
    "## Strings"
   ]
  },
  {
   "cell_type": "markdown",
   "id": "3df66309",
   "metadata": {},
   "source": [
    "Oque são strings? Sequencia de caracteres, formando as palavras e frases\n",
    "Então o Python pode usar indices para localizar cada letra, ou seja, cada letra tem uma numeração\n"
   ]
  },
  {
   "cell_type": "markdown",
   "id": "5842818c",
   "metadata": {},
   "source": [
    "exemplo: AMOR  - letra A nº 0 - letra M nº 1 - letra O nº 2 - letra R nº 3"
   ]
  },
  {
   "cell_type": "markdown",
   "id": "e5403d6d",
   "metadata": {},
   "source": [
    "##### sempre começa com o numero zero 0"
   ]
  },
  {
   "cell_type": "markdown",
   "id": "8643ff10",
   "metadata": {},
   "source": [
    "### Como chamar esses indices?"
   ]
  },
  {
   "cell_type": "code",
   "execution_count": null,
   "id": "0a7f9a73",
   "metadata": {},
   "outputs": [],
   "source": [
    "# Uma unica palavra\n",
    "'Oi'"
   ]
  },
  {
   "cell_type": "code",
   "execution_count": null,
   "id": "a5b5f906",
   "metadata": {},
   "outputs": [],
   "source": [
    "# Uma frase\n",
    "'Meu nome é Danyelle'"
   ]
  },
  {
   "cell_type": "markdown",
   "id": "b270e83a",
   "metadata": {},
   "source": [
    "#### Imprimindo uma String"
   ]
  },
  {
   "cell_type": "code",
   "execution_count": null,
   "id": "f5237b98",
   "metadata": {},
   "outputs": [],
   "source": [
    "print('teste')"
   ]
  },
  {
   "cell_type": "code",
   "execution_count": null,
   "id": "6e2477b9",
   "metadata": {},
   "outputs": [],
   "source": [
    "# string pulando uma linha, basta colocar \\n antes de cada palavra\n",
    "\n",
    "print('Meu \\nNome é \\nDanyelle')\n"
   ]
  },
  {
   "cell_type": "markdown",
   "id": "eb885082",
   "metadata": {},
   "source": [
    "#### Indexando Strings"
   ]
  },
  {
   "cell_type": "code",
   "execution_count": null,
   "id": "6fc8584e",
   "metadata": {},
   "outputs": [],
   "source": [
    "# Primeiro vamos criar uma variável e atribuir a ela um valor string(letras)\n",
    "texto = 'Análise de Dados'"
   ]
  },
  {
   "cell_type": "code",
   "execution_count": null,
   "id": "fae154fa",
   "metadata": {},
   "outputs": [],
   "source": [
    "print(texto)"
   ]
  },
  {
   "cell_type": "code",
   "execution_count": null,
   "id": "da5972ef",
   "metadata": {},
   "outputs": [],
   "source": [
    "# Primeira letra da string e o indice(numeração/posição) dentro de colchetes\n",
    "texto[0] "
   ]
  },
  {
   "cell_type": "code",
   "execution_count": null,
   "id": "eda43cec",
   "metadata": {},
   "outputs": [],
   "source": [
    "# Segunda letra da string\n",
    "texto[1] "
   ]
  },
  {
   "cell_type": "code",
   "execution_count": null,
   "id": "7821fa33",
   "metadata": {},
   "outputs": [],
   "source": [
    "# Iremos utilizar dois pontos (:) entre um indice e outro\n",
    "#para que o programa puxe uma sequencia inteira\n",
    "# Slicing\n",
    "texto[1:8]"
   ]
  },
  {
   "cell_type": "code",
   "execution_count": null,
   "id": "4c073780",
   "metadata": {},
   "outputs": [],
   "source": [
    "texto[:10]"
   ]
  },
  {
   "cell_type": "code",
   "execution_count": null,
   "id": "86f9f6d6",
   "metadata": {},
   "outputs": [],
   "source": [
    "texto[1:]"
   ]
  },
  {
   "cell_type": "markdown",
   "id": "45695e12",
   "metadata": {},
   "source": [
    "Obs: Os espaços dentro da string conta como uma posição"
   ]
  },
  {
   "cell_type": "markdown",
   "id": "645471ab",
   "metadata": {},
   "source": [
    "Obs: se começar com o indice zero não é preciso preencher o zero, apenas em delimitações"
   ]
  },
  {
   "cell_type": "code",
   "execution_count": null,
   "id": "025e2a32",
   "metadata": {},
   "outputs": [],
   "source": [
    "#para retornar como indexação ao contrário basta colocar o sinal de menos\n",
    "# ou seja, começar da ultima letgra para a primeira\n",
    "texto[-1]"
   ]
  },
  {
   "cell_type": "code",
   "execution_count": null,
   "id": "d464eedd",
   "metadata": {},
   "outputs": [],
   "source": [
    "# podemos ainda usar dois pontos duplos para pular indices\n",
    "# retorne todos os caracteres faltando duas posições\n",
    "texto[::2]"
   ]
  },
  {
   "cell_type": "code",
   "execution_count": null,
   "id": "a1bc2b54",
   "metadata": {},
   "outputs": [],
   "source": [
    "texto[2::2]"
   ]
  },
  {
   "cell_type": "markdown",
   "id": "3a7fe798",
   "metadata": {},
   "source": [
    "#### Propriedades de Strings"
   ]
  },
  {
   "cell_type": "code",
   "execution_count": null,
   "id": "683871d3",
   "metadata": {},
   "outputs": [],
   "source": [
    "texto"
   ]
  },
  {
   "cell_type": "markdown",
   "id": "6bed2bf5",
   "metadata": {},
   "source": [
    "obs: Não podemos mudar indices dentro de uma string, strings são imutáveis"
   ]
  },
  {
   "cell_type": "markdown",
   "id": "80350aa6",
   "metadata": {},
   "source": [
    "#### podemos concatenar uma string"
   ]
  },
  {
   "cell_type": "code",
   "execution_count": null,
   "id": "73cbc25a",
   "metadata": {},
   "outputs": [],
   "source": [
    "texto"
   ]
  },
  {
   "cell_type": "code",
   "execution_count": null,
   "id": "92dd068e",
   "metadata": {},
   "outputs": [],
   "source": [
    "texto + ' ' + 'em Python'"
   ]
  },
  {
   "cell_type": "markdown",
   "id": "dc1e21c4",
   "metadata": {},
   "source": [
    "#### Função Built-in de Strings"
   ]
  },
  {
   "cell_type": "code",
   "execution_count": null,
   "id": "fda66ef7",
   "metadata": {},
   "outputs": [],
   "source": [
    "texto"
   ]
  },
  {
   "cell_type": "markdown",
   "id": "77146cdc",
   "metadata": {},
   "source": [
    "quando colocamos a variável e o ponto depois podemos precionar a tecla TAB para que uma janela com todos os métodos e  atributos disponíveis para cada objeto(variável"
   ]
  },
  {
   "cell_type": "code",
   "execution_count": null,
   "id": "4a51fb2c",
   "metadata": {},
   "outputs": [],
   "source": [
    "# tranformar todos os caracterer em letras maiusculas usando metodos com parenteses no final\n",
    "# usamos o upper()\n",
    "texto.upper()"
   ]
  },
  {
   "cell_type": "code",
   "execution_count": null,
   "id": "68a0d335",
   "metadata": {},
   "outputs": [],
   "source": [
    "# todas as letras da string em minúsculas\n",
    "# usamos o lower()\n",
    "\n",
    "texto.lower()"
   ]
  },
  {
   "cell_type": "code",
   "execution_count": null,
   "id": "7feaf55a",
   "metadata": {},
   "outputs": [],
   "source": [
    "# O split ele vai dividir a string\n",
    "# sempre que essa funçao encoontrar um espaço ela vai dividir a string\n",
    "texto.split()"
   ]
  },
  {
   "cell_type": "code",
   "execution_count": null,
   "id": "84a306e6",
   "metadata": {},
   "outputs": [],
   "source": [
    "# dividir a string por um elemento especifico\n",
    "# além do espaço, a letra indexada também será abstraida\n",
    "texto.split('d')"
   ]
  },
  {
   "cell_type": "markdown",
   "id": "b167c400",
   "metadata": {},
   "source": [
    "### Funções Strings"
   ]
  },
  {
   "cell_type": "code",
   "execution_count": null,
   "id": "33416bfa",
   "metadata": {},
   "outputs": [],
   "source": [
    "a = 'analise de dados em python'"
   ]
  },
  {
   "cell_type": "code",
   "execution_count": null,
   "id": "eed0fdb6",
   "metadata": {},
   "outputs": [],
   "source": [
    "# transformar a primeira letra em maiusculo\n",
    "a.capitalize()"
   ]
  },
  {
   "cell_type": "code",
   "execution_count": null,
   "id": "fa06e799",
   "metadata": {},
   "outputs": [],
   "source": [
    "# utilizar o count() para contr a frequencia de cada letra numa string\n",
    "a.count('e')"
   ]
  },
  {
   "cell_type": "code",
   "execution_count": null,
   "id": "5a565967",
   "metadata": {},
   "outputs": [],
   "source": [
    "# utilizar a função find() para encontrar a letra dentro de uma string\n",
    "a.find('n')"
   ]
  },
  {
   "cell_type": "code",
   "execution_count": null,
   "id": "6d6a1193",
   "metadata": {},
   "outputs": [],
   "source": [
    "# Verificar se todos os caracteres da string são minusculos\n",
    "a.islower()"
   ]
  },
  {
   "cell_type": "code",
   "execution_count": null,
   "id": "90c8941f",
   "metadata": {},
   "outputs": [],
   "source": [
    "# verificar se existe apenas espaço na string\n",
    "a.isspace()"
   ]
  },
  {
   "cell_type": "code",
   "execution_count": null,
   "id": "5062b1da",
   "metadata": {},
   "outputs": [],
   "source": [
    "# se a string termina com  letra ó\n",
    "a.endswith('o')"
   ]
  },
  {
   "cell_type": "markdown",
   "id": "161ebf3b",
   "metadata": {},
   "source": [
    "#### Comparando Strings"
   ]
  },
  {
   "cell_type": "code",
   "execution_count": null,
   "id": "92931dfc",
   "metadata": {},
   "outputs": [],
   "source": [
    "# comparando se x é igual a x\n",
    "print('x' == 'x')"
   ]
  },
  {
   "cell_type": "code",
   "execution_count": null,
   "id": "992d504e",
   "metadata": {},
   "outputs": [],
   "source": [
    "# comparando se R é igual a x\n",
    "print('R' == 'x')"
   ]
  },
  {
   "cell_type": "code",
   "execution_count": null,
   "id": "50cadbf0",
   "metadata": {},
   "outputs": [],
   "source": [
    "# comparando se x maiusculo é igual a x menusculo\n",
    "print('X' == 'x')"
   ]
  },
  {
   "cell_type": "markdown",
   "id": "57eff67c",
   "metadata": {},
   "source": [
    "## Estruturas de dados"
   ]
  },
  {
   "cell_type": "markdown",
   "id": "6f23fffc",
   "metadata": {},
   "source": [
    "### LISTAS"
   ]
  },
  {
   "cell_type": "markdown",
   "id": "641e0e8b",
   "metadata": {},
   "source": [
    "O que é uma LISTA?\n",
    "Ao contrario de strings, as listas sãoi mutáveis, os elementos dentro dessa lista podem ser alterados\n"
   ]
  },
  {
   "cell_type": "markdown",
   "id": "3ecb6f24",
   "metadata": {},
   "source": [
    "As listas são compostas por varias strings separadas por virgulas e dentro de colchetes"
   ]
  },
  {
   "cell_type": "code",
   "execution_count": null,
   "id": "aa3170f2",
   "metadata": {},
   "outputs": [],
   "source": [
    "# criamos uma variavel para ser o nome da lista\n",
    "# nomes = ['nome1', 'noome2', 'nome3']\n",
    "\n",
    "nomes = ['Maria', 'João', 'Pedro', 'Antônio']"
   ]
  },
  {
   "cell_type": "code",
   "execution_count": null,
   "id": "22da1fb6",
   "metadata": {},
   "outputs": [],
   "source": [
    "nomes"
   ]
  },
  {
   "cell_type": "code",
   "execution_count": null,
   "id": "055b5acf",
   "metadata": {},
   "outputs": [],
   "source": [
    "# lista com aspas em cada elemento\n",
    "# listas com 4 elementos\n",
    "lista_mercado = ['Feijão', 'Arroz', 'Ovos', 'Farinha']"
   ]
  },
  {
   "cell_type": "code",
   "execution_count": null,
   "id": "c704963f",
   "metadata": {},
   "outputs": [],
   "source": [
    "# lista com aspas no inicio e fim da lista, apenas\n",
    "# listas de um unico elemento\n",
    "lista_mercado2 = ['Maçã , Mamão, Açucar, Leite']"
   ]
  },
  {
   "cell_type": "code",
   "execution_count": null,
   "id": "2fe63a3a",
   "metadata": {},
   "outputs": [],
   "source": [
    "lista_mercado"
   ]
  },
  {
   "cell_type": "code",
   "execution_count": null,
   "id": "90c24134",
   "metadata": {},
   "outputs": [],
   "source": [
    "lista_mercado2"
   ]
  },
  {
   "cell_type": "markdown",
   "id": "bdd56ad8",
   "metadata": {},
   "source": [
    "Exibição de elementos das listas"
   ]
  },
  {
   "cell_type": "code",
   "execution_count": null,
   "id": "46f3508c",
   "metadata": {},
   "outputs": [],
   "source": [
    "# Exibir apenas o parametro do indice indicado\n",
    "# indice 2\n",
    "lista_mercado[2]"
   ]
  },
  {
   "cell_type": "code",
   "execution_count": null,
   "id": "cad7001c",
   "metadata": {},
   "outputs": [],
   "source": [
    "# Exibir apenas o parametro do indice indicado\n",
    "# indice 0\n",
    "# Não podemos exibir indices que n contem na lista\n",
    "# Esta lista contem apenas um elemento, ou seja, um indice, o zero\n",
    "lista_mercado2[0]"
   ]
  },
  {
   "cell_type": "code",
   "execution_count": null,
   "id": "f8cab044",
   "metadata": {},
   "outputs": [],
   "source": [
    "# LISTA com tipos diferentes de dados\n",
    "\n",
    "lista = [12, 10.6, 'Universidade']"
   ]
  },
  {
   "cell_type": "code",
   "execution_count": null,
   "id": "0e671621",
   "metadata": {},
   "outputs": [],
   "source": [
    "print(lista)"
   ]
  },
  {
   "cell_type": "code",
   "execution_count": null,
   "id": "8f83d37d",
   "metadata": {},
   "outputs": [],
   "source": [
    "# Atribuindo cada valor da lista a uma variável\n",
    "elemento1 = lista[0]\n",
    "elemento2 = lista[1]\n",
    "elemento3 = lista[2]"
   ]
  },
  {
   "cell_type": "code",
   "execution_count": null,
   "id": "ec71a25d",
   "metadata": {},
   "outputs": [],
   "source": [
    "print(elemento1, elemento2, elemento3)"
   ]
  },
  {
   "cell_type": "markdown",
   "id": "5436ff17",
   "metadata": {},
   "source": [
    "#### Substituir elementos de uma lista"
   ]
  },
  {
   "cell_type": "code",
   "execution_count": null,
   "id": "627be055",
   "metadata": {},
   "outputs": [],
   "source": [
    "lista[2]"
   ]
  },
  {
   "cell_type": "code",
   "execution_count": null,
   "id": "3697eab8",
   "metadata": {},
   "outputs": [],
   "source": [
    "#colocar a variavel com o indice e logo depois informar o valor a ser inserido\n",
    "lista[2] = 'Chocolate'"
   ]
  },
  {
   "cell_type": "code",
   "execution_count": null,
   "id": "7d2c3b70",
   "metadata": {},
   "outputs": [],
   "source": [
    "lista[2]"
   ]
  },
  {
   "cell_type": "markdown",
   "id": "457679cd",
   "metadata": {},
   "source": [
    "#### deletar um item da lista com DEL"
   ]
  },
  {
   "cell_type": "code",
   "execution_count": null,
   "id": "cfe2f102",
   "metadata": {},
   "outputs": [],
   "source": [
    "del lista[1]"
   ]
  },
  {
   "cell_type": "code",
   "execution_count": null,
   "id": "5b71582a",
   "metadata": {},
   "outputs": [],
   "source": [
    "lista"
   ]
  },
  {
   "cell_type": "markdown",
   "id": "c4c7164e",
   "metadata": {},
   "source": [
    "### Lista dentro de outra Lista (lista alinhada)"
   ]
  },
  {
   "cell_type": "code",
   "execution_count": null,
   "id": "cb9076d9",
   "metadata": {},
   "outputs": [],
   "source": [
    "# Criando uma lista de lista\n",
    "\n",
    "listas = [[1,2,3], [4,5,6,7], [8,9,10,11,12]]"
   ]
  },
  {
   "cell_type": "code",
   "execution_count": null,
   "id": "0fa06db8",
   "metadata": {},
   "outputs": [],
   "source": [
    "listas"
   ]
  },
  {
   "cell_type": "code",
   "execution_count": null,
   "id": "80930665",
   "metadata": {},
   "outputs": [],
   "source": [
    "# atribuir uma variavel a um item da lista criada\n",
    "a = listas[0]"
   ]
  },
  {
   "cell_type": "code",
   "execution_count": null,
   "id": "fa60cccf",
   "metadata": {},
   "outputs": [],
   "source": [
    "a"
   ]
  },
  {
   "cell_type": "code",
   "execution_count": null,
   "id": "9260d85e",
   "metadata": {},
   "outputs": [],
   "source": [
    "# como a é uma lista também, podemos atribuir variavel aos itens dentro dessa lista\n",
    "b = a[2]"
   ]
  },
  {
   "cell_type": "code",
   "execution_count": null,
   "id": "da6f4d7e",
   "metadata": {},
   "outputs": [],
   "source": [
    "b"
   ]
  },
  {
   "cell_type": "markdown",
   "id": "b2ce70dd",
   "metadata": {},
   "source": [
    "OBS: A lista com listas dentro dela se torna uma matriz, com linhas e colunas"
   ]
  },
  {
   "cell_type": "code",
   "execution_count": null,
   "id": "a1f7e8c7",
   "metadata": {},
   "outputs": [],
   "source": [
    "# a = listas[0][0] posição do indice da linha e indice coluna\n",
    "# a linha será a posição de cada lista\n",
    "# a coluna será cada elemento dessas listas"
   ]
  },
  {
   "cell_type": "code",
   "execution_count": null,
   "id": "d41f4b7e",
   "metadata": {},
   "outputs": [],
   "source": [
    "c = listas[0][0]"
   ]
  },
  {
   "cell_type": "code",
   "execution_count": null,
   "id": "e0a777da",
   "metadata": {},
   "outputs": [],
   "source": [
    "c"
   ]
  },
  {
   "cell_type": "code",
   "execution_count": null,
   "id": "b7878e0f",
   "metadata": {},
   "outputs": [],
   "source": [
    "d = listas[2][3]"
   ]
  },
  {
   "cell_type": "code",
   "execution_count": null,
   "id": "de463c17",
   "metadata": {},
   "outputs": [],
   "source": [
    "d"
   ]
  },
  {
   "cell_type": "code",
   "execution_count": null,
   "id": "679f8ce8",
   "metadata": {},
   "outputs": [],
   "source": [
    "# Podemos somar o valor da lista com com valores externos\n",
    "g = listas[1][2] + 10\n",
    "# a linha será a segunda lista\n",
    "# a coluna será o terceiro item da lista dois\n",
    "# o indice sempre começa com zero"
   ]
  },
  {
   "cell_type": "code",
   "execution_count": null,
   "id": "24f7a9a5",
   "metadata": {},
   "outputs": [],
   "source": [
    "g"
   ]
  },
  {
   "cell_type": "code",
   "execution_count": null,
   "id": "191f8f8a",
   "metadata": {},
   "outputs": [],
   "source": [
    "f = d * listas[2][1]"
   ]
  },
  {
   "cell_type": "code",
   "execution_count": null,
   "id": "3892c209",
   "metadata": {},
   "outputs": [],
   "source": [
    "f"
   ]
  },
  {
   "cell_type": "markdown",
   "id": "3e0f9876",
   "metadata": {},
   "source": [
    "concatenar listas cm outras listas"
   ]
  },
  {
   "cell_type": "code",
   "execution_count": null,
   "id": "c7b33f28",
   "metadata": {},
   "outputs": [],
   "source": [
    "# cria uma lista 1\n",
    "lista_1 = [1,2,3,4]"
   ]
  },
  {
   "cell_type": "code",
   "execution_count": null,
   "id": "f5fd3cd5",
   "metadata": {},
   "outputs": [],
   "source": [
    "# imprime a lista 1\n",
    "lista_1"
   ]
  },
  {
   "cell_type": "code",
   "execution_count": null,
   "id": "72e7cabd",
   "metadata": {},
   "outputs": [],
   "source": [
    "# cria uma lista 2\n",
    "lista_2 = [5,6,7,8,9,10]"
   ]
  },
  {
   "cell_type": "code",
   "execution_count": null,
   "id": "e8694e97",
   "metadata": {},
   "outputs": [],
   "source": [
    "# imprime a lista 2\n",
    "lista_2"
   ]
  },
  {
   "cell_type": "code",
   "execution_count": null,
   "id": "7221c420",
   "metadata": {},
   "outputs": [],
   "source": [
    "# cria uma lista total onde irá cnter a concatenação das outras duas\n",
    "lista_total = lista_1 + lista_2"
   ]
  },
  {
   "cell_type": "code",
   "execution_count": null,
   "id": "c74202ed",
   "metadata": {},
   "outputs": [],
   "source": [
    "# imprime essa lista total\n",
    "lista_total"
   ]
  },
  {
   "cell_type": "markdown",
   "id": "e4424f68",
   "metadata": {},
   "source": [
    "#### Operador in"
   ]
  },
  {
   "cell_type": "markdown",
   "id": "70e9c5e6",
   "metadata": {},
   "source": [
    "para fazer pesquisa dentro de uma lista"
   ]
  },
  {
   "cell_type": "code",
   "execution_count": null,
   "id": "8c49e658",
   "metadata": {},
   "outputs": [],
   "source": [
    "# criar uma lista\n",
    "lista_teste = [100,2,5,9,12]"
   ]
  },
  {
   "cell_type": "code",
   "execution_count": null,
   "id": "b89c7996",
   "metadata": {},
   "outputs": [],
   "source": [
    "lista_teste"
   ]
  },
  {
   "cell_type": "code",
   "execution_count": null,
   "id": "c1b52296",
   "metadata": {},
   "outputs": [],
   "source": [
    "# verificar se o valor 10 pertenc a lista\n",
    "print(10 in lista_teste)"
   ]
  },
  {
   "cell_type": "code",
   "execution_count": null,
   "id": "aec1bb2e",
   "metadata": {},
   "outputs": [],
   "source": [
    "# verificar se o valor 100 pertenc a lista\n",
    "print(100 in lista_teste)\n",
    "\n",
    "\n",
    "# o in significa conter, o valor x contem na lista y?"
   ]
  },
  {
   "cell_type": "markdown",
   "id": "dbd2706f",
   "metadata": {},
   "source": [
    "Funções Built-in"
   ]
  },
  {
   "cell_type": "code",
   "execution_count": null,
   "id": "fd8e2409",
   "metadata": {},
   "outputs": [],
   "source": [
    "# função len() retorna o tamanho da lista, quantos elementos ela contém, não o indice\n",
    "len(lista_teste)"
   ]
  },
  {
   "cell_type": "code",
   "execution_count": null,
   "id": "0599c977",
   "metadata": {},
   "outputs": [],
   "source": [
    "# função max() nos retorna o maior elemento dessa lista\n",
    "max(lista_teste)"
   ]
  },
  {
   "cell_type": "code",
   "execution_count": null,
   "id": "09b58ba4",
   "metadata": {},
   "outputs": [],
   "source": [
    "# função max() nos retorna o menor elemento dessa lista\n",
    "min(lista_teste)"
   ]
  },
  {
   "cell_type": "markdown",
   "id": "0a1b1abf",
   "metadata": {},
   "source": [
    "adicionar um valor a lista"
   ]
  },
  {
   "cell_type": "code",
   "execution_count": null,
   "id": "752d0e05",
   "metadata": {},
   "outputs": [],
   "source": [
    "# criar uma lista\n",
    "lista_teste_2 = [1,2,3,4,5,6,7,8,9,10]"
   ]
  },
  {
   "cell_type": "code",
   "execution_count": null,
   "id": "c71a2a21",
   "metadata": {},
   "outputs": [],
   "source": [
    "# exibir lista\n",
    "lista_teste_2"
   ]
  },
  {
   "cell_type": "code",
   "execution_count": null,
   "id": "f3dd53d0",
   "metadata": {},
   "outputs": [],
   "source": [
    "# usando a funação append(valr a ser add), ele adiciona um valor no fim da lista e não por indice\n",
    "lista_teste_2.append(11)"
   ]
  },
  {
   "cell_type": "code",
   "execution_count": null,
   "id": "9d250a28",
   "metadata": {},
   "outputs": [],
   "source": [
    "# listar a lista depois da inserção \n",
    "lista_teste_2"
   ]
  },
  {
   "cell_type": "code",
   "execution_count": null,
   "id": "5d810a4b",
   "metadata": {},
   "outputs": [],
   "source": [
    "# criar outra lista\n",
    "lista_prod = ['carne', 'ovos', 'farinha', 'feijão']"
   ]
  },
  {
   "cell_type": "code",
   "execution_count": null,
   "id": "b9706a5f",
   "metadata": {},
   "outputs": [],
   "source": [
    "lista_prod.append('frango')"
   ]
  },
  {
   "cell_type": "code",
   "execution_count": null,
   "id": "530189b5",
   "metadata": {},
   "outputs": [],
   "source": [
    "lista_prod"
   ]
  },
  {
   "cell_type": "code",
   "execution_count": null,
   "id": "cba0140c",
   "metadata": {},
   "outputs": [],
   "source": [
    "# deletando o que acabamos de inserir\n",
    "del lista_prod[4]"
   ]
  },
  {
   "cell_type": "code",
   "execution_count": null,
   "id": "8676428f",
   "metadata": {},
   "outputs": [],
   "source": [
    "lista_prod"
   ]
  },
  {
   "cell_type": "markdown",
   "id": "1ecbd24a",
   "metadata": {},
   "source": [
    "#### criar uma lista vazia para preenche-la com um laço for"
   ]
  },
  {
   "cell_type": "code",
   "execution_count": null,
   "id": "8864b06e",
   "metadata": {},
   "outputs": [],
   "source": [
    "# criar uma outra lista, \n",
    "lista_antiga = ['João', 'Maria', 'Margarete', 'Thiago']"
   ]
  },
  {
   "cell_type": "code",
   "execution_count": null,
   "id": "c2dc0b8c",
   "metadata": {},
   "outputs": [],
   "source": [
    "# criar uma lista vazia\n",
    "lista_vazia = []"
   ]
  },
  {
   "cell_type": "code",
   "execution_count": null,
   "id": "1c52944b",
   "metadata": {},
   "outputs": [],
   "source": [
    "# preenchendo com o for\n",
    "\n",
    "# lê-se: (for)para cada item(variavel qualquer) na lista antiga(lista com elementos)\n",
    "# (:)faça um append()(função add. com a lista vazia antes dele) na lista nova.\n",
    "for item in lista_antiga:\n",
    "        lista_vazia.append(item)"
   ]
  },
  {
   "cell_type": "code",
   "execution_count": null,
   "id": "38d80a97",
   "metadata": {},
   "outputs": [],
   "source": [
    "lista_vazia\n",
    "\n",
    "\n",
    "# é uma excelente forma de se fazer backup de alguma lista"
   ]
  },
  {
   "cell_type": "code",
   "execution_count": null,
   "id": "a81dd518",
   "metadata": {},
   "outputs": [],
   "source": [
    "# criar outra lista\n",
    "cidades = ['Recife', 'Olinda', 'Salvador', 'Paulista']"
   ]
  },
  {
   "cell_type": "code",
   "execution_count": null,
   "id": "2c7da4a7",
   "metadata": {},
   "outputs": [],
   "source": [
    "cidades"
   ]
  },
  {
   "cell_type": "code",
   "execution_count": null,
   "id": "2f3c5beb",
   "metadata": {},
   "outputs": [],
   "source": [
    "# podemos saber atravez do index(), um uma ordem específica da lista\n",
    "cidades.index('Salvador')"
   ]
  },
  {
   "cell_type": "markdown",
   "id": "79044bf0",
   "metadata": {},
   "source": [
    "lembrando que em python os indece comeca com zero 0"
   ]
  },
  {
   "cell_type": "code",
   "execution_count": null,
   "id": "48396b9b",
   "metadata": {},
   "outputs": [],
   "source": [
    "# podemos inserir um elemento em algum indice específico com o insert()\n",
    "\n",
    "# a variavel.fençaão insert(index, 'valor a ser inseido')\n",
    "cidades.insert(2,'Camaragibe')"
   ]
  },
  {
   "cell_type": "code",
   "execution_count": null,
   "id": "87072f4a",
   "metadata": {},
   "outputs": [],
   "source": [
    "cidades"
   ]
  },
  {
   "cell_type": "code",
   "execution_count": null,
   "id": "cec76cac",
   "metadata": {},
   "outputs": [],
   "source": [
    "# removendo com uma função remove(), mas dentro da função vai o elemento e n o index\n",
    "\n",
    "cidades.remove('Salvador')"
   ]
  },
  {
   "cell_type": "code",
   "execution_count": null,
   "id": "51b5ffba",
   "metadata": {},
   "outputs": [],
   "source": [
    "cidades"
   ]
  },
  {
   "cell_type": "markdown",
   "id": "097768aa",
   "metadata": {},
   "source": [
    "Com o del removemos pelo index, mas se não souber, faz um variavel.index() para achar e remover, ou \n",
    "apenas remove com a função remove() com o elemento mesmo"
   ]
  },
  {
   "cell_type": "code",
   "execution_count": null,
   "id": "6919b0c1",
   "metadata": {},
   "outputs": [],
   "source": [
    "# listar do fim para o inicio\n",
    "cidades.reverse()"
   ]
  },
  {
   "cell_type": "code",
   "execution_count": null,
   "id": "1c447862",
   "metadata": {},
   "outputs": [],
   "source": [
    "cidades"
   ]
  },
  {
   "cell_type": "code",
   "execution_count": null,
   "id": "7e8d926f",
   "metadata": {},
   "outputs": [],
   "source": [
    "# ordenar de forma crescente uma lista com a função sort()\n",
    "x = [3, 4, 2, 1]"
   ]
  },
  {
   "cell_type": "code",
   "execution_count": null,
   "id": "b6570e5b",
   "metadata": {},
   "outputs": [],
   "source": [
    "x.sort()"
   ]
  },
  {
   "cell_type": "code",
   "execution_count": null,
   "id": "12e81304",
   "metadata": {},
   "outputs": [],
   "source": [
    "x"
   ]
  },
  {
   "cell_type": "markdown",
   "id": "d0bd195d",
   "metadata": {},
   "source": [
    "## Dicionários\n",
    "Mapeamentos em Python\n",
    "os dicionários criamos com chaves {}"
   ]
  },
  {
   "cell_type": "code",
   "execution_count": null,
   "id": "b3040173",
   "metadata": {},
   "outputs": [],
   "source": [
    "# vamos compartar uma lista com um dicionário\n",
    "#   criar lista\n",
    "lsita_comp = [1, 'Maria', 258, 'João']"
   ]
  },
  {
   "cell_type": "code",
   "execution_count": null,
   "id": "b7903e08",
   "metadata": {},
   "outputs": [],
   "source": [
    "# criar dicionário\n",
    "# precisamos da chave : e o valor\n",
    "dicionario_1 = {'Maria': 18, 'João': 25, 'Fernanda': 19}"
   ]
  },
  {
   "cell_type": "code",
   "execution_count": null,
   "id": "66e6eef9",
   "metadata": {},
   "outputs": [],
   "source": [
    "print(lsita_comp)\n",
    "print(dicionario_1)"
   ]
  },
  {
   "cell_type": "code",
   "execution_count": null,
   "id": "e1924c60",
   "metadata": {},
   "outputs": [],
   "source": [
    "# retornar o valor de uma chave\n",
    "dicionario_1['Fernanda']"
   ]
  },
  {
   "cell_type": "code",
   "execution_count": null,
   "id": "ef020692",
   "metadata": {},
   "outputs": [],
   "source": [
    "# podemos inserir no dicionário um elemento e atribuir valor a ele\n",
    "dicionario_1['Monica'] = 46"
   ]
  },
  {
   "cell_type": "code",
   "execution_count": null,
   "id": "bae13cee",
   "metadata": {},
   "outputs": [],
   "source": [
    "dicionario_1"
   ]
  },
  {
   "cell_type": "code",
   "execution_count": null,
   "id": "498a0eb8",
   "metadata": {},
   "outputs": [],
   "source": [
    "# podemos apagar todos os valores que contem no dicionário com a função clear()\n",
    "\n",
    "dicionario_1.clear()"
   ]
  },
  {
   "cell_type": "code",
   "execution_count": null,
   "id": "80dda1e8",
   "metadata": {},
   "outputs": [],
   "source": [
    "dicionario_1"
   ]
  },
  {
   "cell_type": "code",
   "execution_count": null,
   "id": "6c65c5d6",
   "metadata": {},
   "outputs": [],
   "source": [
    "# adicionar valores, sem indexação\n",
    "dicionario_1['Rebeca'] = 15"
   ]
  },
  {
   "cell_type": "code",
   "execution_count": null,
   "id": "dc1d925c",
   "metadata": {},
   "outputs": [],
   "source": [
    "dicionario_1['Jorge'] = 66"
   ]
  },
  {
   "cell_type": "code",
   "execution_count": null,
   "id": "0aaffef2",
   "metadata": {},
   "outputs": [],
   "source": [
    "dicionario_1['Antônio'] = 5"
   ]
  },
  {
   "cell_type": "code",
   "execution_count": null,
   "id": "6de5e07d",
   "metadata": {},
   "outputs": [],
   "source": [
    "# listar o dicionário\n",
    "dicionario_1"
   ]
  },
  {
   "cell_type": "code",
   "execution_count": null,
   "id": "089a5daf",
   "metadata": {},
   "outputs": [],
   "source": [
    "# podemos deletar o dicionário com o comando del\n",
    "\n",
    "del dicionario_1"
   ]
  },
  {
   "cell_type": "code",
   "execution_count": null,
   "id": "f855d426",
   "metadata": {},
   "outputs": [],
   "source": [
    "dicionario_1"
   ]
  },
  {
   "cell_type": "code",
   "execution_count": null,
   "id": "16b64db4",
   "metadata": {},
   "outputs": [],
   "source": [
    "# criar um novo dicionário\n",
    "dicionario_2 = {'Maria': 18, 'João': 25, 'Fernanda': 19}"
   ]
  },
  {
   "cell_type": "code",
   "execution_count": null,
   "id": "219f1d94",
   "metadata": {},
   "outputs": [],
   "source": [
    "# usar a função len() para saber o comprimento do dicionário\n",
    "len(dicionario_2)\n",
    "\n",
    "# vimos que o dicionário conmtem 3 elementos\n",
    "# logo o indice vai até 2"
   ]
  },
  {
   "cell_type": "code",
   "execution_count": null,
   "id": "7dcdd40e",
   "metadata": {},
   "outputs": [],
   "source": [
    "#podemos extrair apenas as chaves do nosso dicionário com a função keys()\n",
    "\n",
    "dicionario_2.keys()\n",
    "\n",
    "# vimos que dentro do dicionário se forma uma lista"
   ]
  },
  {
   "cell_type": "code",
   "execution_count": null,
   "id": "b559abf2",
   "metadata": {},
   "outputs": [],
   "source": [
    "#podemos extrair apenas os valores do nosso dicionário com a função values()\n",
    "\n",
    "dicionario_2.values()\n",
    "\n",
    "# vimos que dentro do dicionário se forma uma lista"
   ]
  },
  {
   "cell_type": "code",
   "execution_count": null,
   "id": "d9b4b896",
   "metadata": {},
   "outputs": [],
   "source": [
    "# podemos retornar os itens, são as combinações com a função items()\n",
    "\n",
    "dicionario_2.items()\n",
    "\n",
    "# vimos que dentro do dicionário se forma uma lista"
   ]
  },
  {
   "cell_type": "markdown",
   "id": "324c1e61",
   "metadata": {},
   "source": [
    "#### update no dicionário"
   ]
  },
  {
   "cell_type": "code",
   "execution_count": null,
   "id": "4b981565",
   "metadata": {},
   "outputs": [],
   "source": [
    "# vamos usar a função update()\n",
    "# vamos criar uma novo dicionário\n",
    "\n",
    "dicionario_3 = {'Caio': 21, 'Anderson': 28, 'Serpa': 23}"
   ]
  },
  {
   "cell_type": "code",
   "execution_count": null,
   "id": "239b2a63",
   "metadata": {},
   "outputs": [],
   "source": [
    "dicionario_3"
   ]
  },
  {
   "cell_type": "markdown",
   "id": "b76db114",
   "metadata": {},
   "source": [
    "é como se tivessemos concatenado os dicionários"
   ]
  },
  {
   "cell_type": "code",
   "execution_count": null,
   "id": "b9c70c25",
   "metadata": {},
   "outputs": [],
   "source": [
    "dicionario_2.update(dicionario_3)"
   ]
  },
  {
   "cell_type": "code",
   "execution_count": null,
   "id": "79c893f0",
   "metadata": {},
   "outputs": [],
   "source": [
    "dicionario_2"
   ]
  },
  {
   "cell_type": "markdown",
   "id": "56570b23",
   "metadata": {},
   "source": [
    "## Tuplas\n",
    "valores, dados que não sofreram alterações"
   ]
  },
  {
   "cell_type": "code",
   "execution_count": 1,
   "id": "f066dc3d",
   "metadata": {},
   "outputs": [],
   "source": [
    "# criando uma tupla\n",
    "tupla1 = ('Maria', 23, 'João')"
   ]
  },
  {
   "cell_type": "markdown",
   "id": "03a72854",
   "metadata": {},
   "source": [
    "para as TUPLAS usamos os parenteses"
   ]
  },
  {
   "cell_type": "code",
   "execution_count": 2,
   "id": "cb36d082",
   "metadata": {},
   "outputs": [
    {
     "data": {
      "text/plain": [
       "('Maria', 23, 'João')"
      ]
     },
     "execution_count": 2,
     "metadata": {},
     "output_type": "execute_result"
    }
   ],
   "source": [
    "tupla1"
   ]
  },
  {
   "cell_type": "code",
   "execution_count": null,
   "id": "d0fa301a",
   "metadata": {},
   "outputs": [],
   "source": [
    "# NÃO podemos adicionar valores usando append(), pois ea é imutavel\n",
    "\n",
    "tupla1.append('Chocolate')"
   ]
  },
  {
   "cell_type": "code",
   "execution_count": null,
   "id": "9012c2cc",
   "metadata": {},
   "outputs": [],
   "source": [
    "# tambem n podemos deletar elementos\n",
    "del tupla1['João']"
   ]
  },
  {
   "cell_type": "markdown",
   "id": "8b19ee62",
   "metadata": {},
   "source": [
    "podemos usar todas as funções nessa tupla, menos as que altere seu valor/estrutura"
   ]
  },
  {
   "cell_type": "markdown",
   "id": "8064e519",
   "metadata": {},
   "source": [
    "Mas para alterer uma tupla, podemos converte-la em lista, fazer a alteração e depois tranforma-la em tupla novamente"
   ]
  },
  {
   "cell_type": "code",
   "execution_count": 5,
   "id": "5948931a",
   "metadata": {},
   "outputs": [],
   "source": [
    "# criaremos uma variavel = list(nome da tupla)\n",
    "t1 = list(tupla1)\n",
    "\n",
    "# isso fará com que a tupla vire uma lista, funciona também com o dicionário"
   ]
  },
  {
   "cell_type": "code",
   "execution_count": 6,
   "id": "cbdde486",
   "metadata": {},
   "outputs": [
    {
     "data": {
      "text/plain": [
       "['Maria', 23, 'João']"
      ]
     },
     "execution_count": 6,
     "metadata": {},
     "output_type": "execute_result"
    }
   ],
   "source": [
    "# listando a nova variavél\n",
    "t1"
   ]
  },
  {
   "cell_type": "code",
   "execution_count": 7,
   "id": "40d35fb0",
   "metadata": {},
   "outputs": [],
   "source": [
    "# Adicionando um elemento a tupla convertida em lista\n",
    "t1.append('Chocolate')"
   ]
  },
  {
   "cell_type": "code",
   "execution_count": 9,
   "id": "58d11fe5",
   "metadata": {},
   "outputs": [],
   "source": [
    "# deletando um elemento pelo indice da tupla convertida em lista\n",
    "del t1[1]"
   ]
  },
  {
   "cell_type": "code",
   "execution_count": 10,
   "id": "a9154704",
   "metadata": {},
   "outputs": [
    {
     "data": {
      "text/plain": [
       "['Maria', 'João', 'Chocolate']"
      ]
     },
     "execution_count": 10,
     "metadata": {},
     "output_type": "execute_result"
    }
   ],
   "source": [
    "# listando a tupla\n",
    "t1"
   ]
  },
  {
   "cell_type": "code",
   "execution_count": 11,
   "id": "1f90eb9e",
   "metadata": {},
   "outputs": [],
   "source": [
    "# transformar a alista em tupla novamente\n",
    "tupla1 = tuple(t1)"
   ]
  },
  {
   "cell_type": "code",
   "execution_count": 12,
   "id": "9845be97",
   "metadata": {},
   "outputs": [
    {
     "data": {
      "text/plain": [
       "('Maria', 'João', 'Chocolate')"
      ]
     },
     "execution_count": 12,
     "metadata": {},
     "output_type": "execute_result"
    }
   ],
   "source": [
    "# listando a tupla\n",
    "tupla1"
   ]
  },
  {
   "cell_type": "code",
   "execution_count": null,
   "id": "1fa67d65",
   "metadata": {},
   "outputs": [],
   "source": []
  }
 ],
 "metadata": {
  "kernelspec": {
   "display_name": "Python 3 (ipykernel)",
   "language": "python",
   "name": "python3"
  },
  "language_info": {
   "codemirror_mode": {
    "name": "ipython",
    "version": 3
   },
   "file_extension": ".py",
   "mimetype": "text/x-python",
   "name": "python",
   "nbconvert_exporter": "python",
   "pygments_lexer": "ipython3",
   "version": "3.9.12"
  }
 },
 "nbformat": 4,
 "nbformat_minor": 5
}
